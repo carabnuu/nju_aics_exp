{
 "cells": [
  {
   "cell_type": "markdown",
   "id": "2c0435b1",
   "metadata": {},
   "source": [
    "## 实验八：全流程垃圾分类应用（part II）"
   ]
  },
  {
   "cell_type": "markdown",
   "id": "cfcfe895",
   "metadata": {},
   "source": [
    "参数全局配置"
   ]
  },
  {
   "cell_type": "code",
   "execution_count": 2,
   "id": "7ea940f9-efcc-46b0-b3b5-24f230d3c88c",
   "metadata": {},
   "outputs": [
    {
     "name": "stderr",
     "output_type": "stream",
     "text": [
      "INFO:root:Using MoXing-v2.0.1.rc0.ffd1c0c8-ffd1c0c8\n",
      "INFO:root:Using OBS-Python-SDK-3.20.9.1\n"
     ]
    }
   ],
   "source": [
    "# import moxing as mox\n",
    "# mox.file.copy_parallel(\"obs://272aeacd8d6a4d01a4133b11869c8877/nj_u/exp8_application/infer_deploy/garbage_deploy_910.om\", \"deploy_model/garbage_deploy.om\")"
   ]
  },
  {
   "cell_type": "code",
   "execution_count": 3,
   "id": "88af7f64-1186-49c9-a087-f5ee18694955",
   "metadata": {},
   "outputs": [],
   "source": [
    "# 全局配置\n",
    "weight_ckpt_path = \"./pretrained/0-20_277.ckpt\"\n",
    "deploy_model_filename = \"deploy_model/garbage_deploy\"\n",
    "num_classes = 40\n",
    "image_size = (224,224)\n",
    "device_target = \"Ascend\"\n",
    "device_id = 0\n",
    "label_list_json_path = \"../data/label_list.json\""
   ]
  },
  {
   "cell_type": "markdown",
   "id": "f4e3b17f-5bb4-4fc5-a4ee-9b36becaedcf",
   "metadata": {},
   "source": [
    "### 9. 模型导出\n",
    "导出前这里提供已经训练好的权重文件，文件配置如下：\n",
    "* 将MindSpore的ckpt模型转为AIR模型\n",
    "* 将AIR模型转为om模型"
   ]
  },
  {
   "cell_type": "code",
   "execution_count": 2,
   "id": "6826a2b4-5411-40e4-afdb-c8aa2610eb55",
   "metadata": {},
   "outputs": [],
   "source": [
    "import os\n",
    "import numpy as np\n",
    "from mindspore import Tensor, context, export\n",
    "import mindspore as ms\n",
    "from mindspore import load_checkpoint, load_param_into_net\n",
    "from src.seresnet import se_resnet50\n",
    "context.set_context(mode=context.GRAPH_MODE, device_target=device_target)"
   ]
  },
  {
   "cell_type": "code",
   "execution_count": 3,
   "id": "26b52ad3-b6d9-498d-bd3c-440f5d4f7bd8",
   "metadata": {},
   "outputs": [],
   "source": [
    "def run_export(ckpt_file, save_filename, num_classes, image_size):\n",
    "    # 初始化模型\n",
    "    net = se_resnet50(class_num=num_classes)\n",
    "    # 加载权重参数\n",
    "    load_param_into_net(net, load_checkpoint(ckpt_file), strict_load=True)\n",
    "    # 设置为eval模式\n",
    "    net.set_train(False)\n",
    "    # 构建伪输入\n",
    "    input_data = Tensor(np.zeros([1, 3, image_size[0], image_size[1]]), ms.float32)\n",
    "    # 导出模型\n",
    "    export(net, input_data, file_name=save_filename, file_format=\"AIR\")"
   ]
  },
  {
   "cell_type": "code",
   "execution_count": 6,
   "id": "c4750f17-2b0e-4b04-b408-f90898d8617a",
   "metadata": {},
   "outputs": [],
   "source": [
    "# 执行导出函数\n",
    "run_export(ckpt_file=weight_ckpt_path, \n",
    "           save_filename=deploy_model_filename, \n",
    "           num_classes=num_classes, \n",
    "           image_size=image_size)"
   ]
  },
  {
   "cell_type": "code",
   "execution_count": 7,
   "id": "bf71567a-6082-4aae-8dee-9eb6c8c5fac5",
   "metadata": {},
   "outputs": [
    {
     "data": {
      "text/plain": [
       "256"
      ]
     },
     "execution_count": 7,
     "metadata": {},
     "output_type": "execute_result"
    }
   ],
   "source": [
    "import sys\n",
    "import os\n",
    "sys.argv=['']\n",
    "\n",
    "os.system(\"export PYTHONPATH=/home/ma-user/anaconda3/envs/MindSpore/lib/python3.7/site-packages:$PYTHONPATH \\\n",
    "            export install_path=/usr/local/Ascend/ascend-toolkit/latest \\\n",
    "            export PATH=/usr/local/python3.7.5/bin:${install_path}/atc/ccec_compiler/bin:${install_path}/atc/bin:$PATH \\\n",
    "            export PYTHONPATH=${install_path}/atc/python/site-packages:$PYTHONPATH \\\n",
    "            export LD_LIBRARY_PATH=${install_path}/atc/lib64:${install_path}/acllib/lib64:$LD_LIBRARY_PATH \\\n",
    "            export ASCEND_OPP_PATH=${install_path}/opp \\\n",
    "            export ASCEND_AICPU_PATH=/usr/local/Ascend/ascend-toolkit/latest \\\n",
    "            /usr/local/Ascend/ascend-toolkit/latest/atc/bin/atc --model='deploy_model/garbage_deploy.air' \\\n",
    "            --framework=1 \\\n",
    "            --output='deploy_model/garbage_deploy' \\\n",
    "            --input_format=NCHW \\\n",
    "            --input_shape='image:1,3,224,224' \\\n",
    "            --log=error \\\n",
    "            --soc_version=Ascend910\")"
   ]
  },
  {
   "cell_type": "markdown",
   "id": "a3c374fc-4406-4d6d-b191-4a341d2c53e4",
   "metadata": {},
   "source": [
    "## 10. 构建ACL推理引擎\n",
    "加载om模型进行推理"
   ]
  },
  {
   "cell_type": "code",
   "execution_count": 4,
   "id": "eb99be2f-6b63-4561-9282-7f3e5f819033",
   "metadata": {},
   "outputs": [],
   "source": [
    "import cv2\n",
    "import numpy as np\n",
    "\n",
    "\n",
    "def resize_image(image, target_size):\n",
    "    h, w = image.shape[:2]\n",
    "    th, tw = target_size\n",
    "\n",
    "    # 获取等比缩放后的尺寸\n",
    "    scale = min(th / h, tw / w)\n",
    "    oh, ow = round(h * scale), round(w * scale)\n",
    "\n",
    "    # 缩放图片，opencv缩放传入尺寸为（宽，高），这里采用线性差值算法\n",
    "    image = cv2.resize(image, (ow, oh), interpolation=cv2.INTER_LINEAR).astype(np.uint8)\n",
    "\n",
    "    # 将剩余部分进行填充\n",
    "    new_image = np.ones((th, tw, 3), dtype=np.uint8) * 114\n",
    "    new_image[:oh, :ow, :] = image\n",
    "    return new_image\n",
    "\n",
    "\n",
    "def process_image(img_path):\n",
    "    # 读取图片，opencv读图后格式是BGR格式，需要转为RGB格式\n",
    "    image = cv2.imread(img_path, cv2.IMREAD_COLOR)\n",
    "    image = cv2.cvtColor(image, cv2.COLOR_BGR2RGB)\n",
    "\n",
    "    # 将图片等比resize至(224x224)\n",
    "    image = resize_image(image, (224, 224))\n",
    "    image = np.array(image, dtype=np.float32)\n",
    "\n",
    "    # 将图片标准化\n",
    "\n",
    "    # (h,w,c) -> (c,h,w)\n",
    "    image = image.transpose((2, 0, 1))\n",
    "    return image\n",
    "\n",
    "def softmax(f):\n",
    "    return np.exp(f) / np.sum(np.exp(f))"
   ]
  },
  {
   "cell_type": "code",
   "execution_count": 5,
   "id": "a43b924d-b99a-4e18-b46e-0349cfeec407",
   "metadata": {},
   "outputs": [],
   "source": [
    "import struct\n",
    "import time\n",
    "import acl\n",
    "\n",
    "ACL_MEM_MALLOC_HUGE_FIRST = 0\n",
    "ACL_MEMCPY_HOST_TO_DEVICE = 1\n",
    "ACL_MEMCPY_DEVICE_TO_HOST = 2\n",
    "NPY_BYTE = 1\n",
    "\n",
    "\n",
    "class ACLEngine(object):\n",
    "    def __init__(self, model_path, class_map, device_id=0):\n",
    "        self.device_id = device_id\n",
    "        self.context = None\n",
    "        self.model_id = None\n",
    "        self.model_desc = None\n",
    "        self.load_input_dataset, self.load_output_dataset = None, None\n",
    "        self.input_data, self.output_data = None, None\n",
    "        self.class_map = class_map\n",
    "        self.num_classes = len(class_map)\n",
    "\n",
    "        # --------------- pyACL初始化 ---------------\n",
    "        print('Start init resource')\n",
    "        self._init_resource()\n",
    "        self._load_model(model_path)\n",
    "        self._prepare_inputs()\n",
    "\n",
    "    def inference(self, img_path):\n",
    "        \"\"\" 模型推理及后处理模块 \"\"\"\n",
    "        # 1.读取并预处理图片\n",
    "        img = process_image(img_path)\n",
    "        # 2.准备模型推理的输入数据，运行模式默认为运行模式为ACL_HOST，当前实例代码中模型只有一个输入。\n",
    "\n",
    "        bytes_data = img.tobytes()\n",
    "        np_ptr = acl.util.bytes_to_ptr(bytes_data)\n",
    "\n",
    "        start_time = time.time()\n",
    "        # 将图片数据从Host传输到Device。\n",
    "        ret = acl.rt.memcpy(self.input_data[0][\"buffer\"], self.input_data[0][\"size\"], np_ptr,\n",
    "                            self.input_data[0][\"size\"], ACL_MEMCPY_HOST_TO_DEVICE)\n",
    "\n",
    "        # 3.执行模型推理。\n",
    "        # self.model_id表示模型ID，在模型加载成功后，会返回标识模型的ID。\n",
    "        ret = acl.mdl.execute(self.model_id, self.load_input_dataset, self.load_output_dataset)\n",
    "\n",
    "        # 4.处理模型推理的输出数据，输出置信度的类别编号。\n",
    "        inference_result = []\n",
    "        for i, item in enumerate(self.output_data):\n",
    "            buffer_host, ret = acl.rt.malloc_host(self.output_data[i][\"size\"])\n",
    "            # 将推理输出数据从Device传输到Host。\n",
    "            ret = acl.rt.memcpy(buffer_host, self.output_data[i][\"size\"], self.output_data[i][\"buffer\"],\n",
    "                                self.output_data[i][\"size\"], ACL_MEMCPY_DEVICE_TO_HOST)\n",
    "\n",
    "            bytes_out = acl.util.ptr_to_bytes(buffer_host, self.output_data[i][\"size\"])\n",
    "            data = np.frombuffer(bytes_out, dtype=np.byte)\n",
    "            inference_result.append(data)\n",
    "\n",
    "        tuple_st = struct.unpack(f\"{self.num_classes}f\", bytearray(inference_result[0]))\n",
    "        vals = np.array(tuple_st).flatten()\n",
    "        vals = softmax(vals)\n",
    "        top_k = vals.argsort()[-1:-6:-1]\n",
    "        print(\"\\n======== inference results: =============\")\n",
    "        for i, j in enumerate(top_k):\n",
    "            print(\"top %d: class:[%s]: probability:[%f]\" % (i, self.class_map[str(j)], vals[j]))\n",
    "\n",
    "        end_time = time.time()\n",
    "        print('inference cost time: {:.1f}ms\\n'.format((end_time-start_time)*1000))\n",
    "\n",
    "    def release_resource(self):\n",
    "        \"\"\" 资源释放模块 \"\"\"\n",
    "        self._unload_model()\n",
    "        self._unload_picture()\n",
    "        self._destroy_resource()\n",
    "        print('Resource destroyed successfully')\n",
    "\n",
    "    def _init_resource(self):\n",
    "        # pyACL初始化\n",
    "        ret = acl.init()\n",
    "\n",
    "        # 运行管理资源申请\n",
    "        # 指定运算的Device。\n",
    "        self.device_id = 0\n",
    "        ret = acl.rt.set_device(self.device_id)\n",
    "        # 显式创建一个Context，用于管理Stream对象。\n",
    "        self.context, ret = acl.rt.create_context(self.device_id)\n",
    "\n",
    "    def _load_model(self, model_path):\n",
    "        # 加载离线模型文件，返回标识模型的ID。\n",
    "        self.model_id, ret = acl.mdl.load_from_file(model_path)\n",
    "\n",
    "        # 根据加载成功的模型的ID，获取该模型的描述信息。\n",
    "        self.model_desc = acl.mdl.create_desc()\n",
    "        ret = acl.mdl.get_desc(self.model_desc, self.model_id)\n",
    "\n",
    "    def _prepare_inputs(self):\n",
    "        # 1.准备模型推理的输入数据集。\n",
    "        # 创建aclmdlDataset类型的数据，描述模型推理的输入。\n",
    "        self.load_input_dataset = acl.mdl.create_dataset()\n",
    "        # 获取模型输入的数量。\n",
    "        input_size = acl.mdl.get_num_inputs(self.model_desc)\n",
    "        self.input_data = []\n",
    "        # 循环为每个输入申请内存，并将每个输入添加到aclmdlDataset类型的数据中。\n",
    "        for i in range(input_size):\n",
    "            buffer_size = acl.mdl.get_input_size_by_index(self.model_desc, i)\n",
    "            # 申请输入内存。\n",
    "            buffer, ret = acl.rt.malloc(buffer_size, ACL_MEM_MALLOC_HUGE_FIRST)\n",
    "            data = acl.create_data_buffer(buffer, buffer_size)\n",
    "            _, ret = acl.mdl.add_dataset_buffer(self.load_input_dataset, data)\n",
    "            self.input_data.append({\"buffer\": buffer, \"size\": buffer_size})\n",
    "\n",
    "        # 2.准备模型推理的输出数据集。\n",
    "        # 创建aclmdlDataset类型的数据，描述模型推理的输出。\n",
    "        self.load_output_dataset = acl.mdl.create_dataset()\n",
    "        # 获取模型输出的数量。\n",
    "        output_size = acl.mdl.get_num_outputs(self.model_desc)\n",
    "        self.output_data = []\n",
    "        # 循环为每个输出申请内存，并将每个输出添加到aclmdlDataset类型的数据中。\n",
    "        for i in range(output_size):\n",
    "            buffer_size = acl.mdl.get_output_size_by_index(self.model_desc, i)\n",
    "            # 申请输出内存。\n",
    "            buffer, ret = acl.rt.malloc(buffer_size, ACL_MEM_MALLOC_HUGE_FIRST)\n",
    "            data = acl.create_data_buffer(buffer, buffer_size)\n",
    "            _, ret = acl.mdl.add_dataset_buffer(self.load_output_dataset, data)\n",
    "            self.output_data.append({\"buffer\": buffer, \"size\": buffer_size})\n",
    "\n",
    "    def _unload_model(self):\n",
    "        # 卸载模型。\n",
    "        ret = acl.mdl.unload(self.model_id)\n",
    "        # 释放模型描述信息。\n",
    "        if self.model_desc:\n",
    "            ret = acl.mdl.destroy_desc(self.model_desc)\n",
    "            self.model_desc = None\n",
    "        # 释放Context。\n",
    "        if self.context:\n",
    "            ret = acl.rt.destroy_context(self.context)\n",
    "            self.context = None\n",
    "\n",
    "    def _unload_picture(self):\n",
    "        # 释放输出资源，包括数据结构和内存。\n",
    "        while self.output_data:\n",
    "            item = self.output_data.pop()\n",
    "            ret = acl.rt.free(item[\"buffer\"])\n",
    "        output_number = acl.mdl.get_dataset_num_buffers(self.load_output_dataset)\n",
    "        for i in range(output_number):\n",
    "            data_buf = acl.mdl.get_dataset_buffer(self.load_output_dataset, i)\n",
    "            if data_buf:\n",
    "                ret = acl.destroy_data_buffer(data_buf)\n",
    "        ret = acl.mdl.destroy_dataset(self.load_output_dataset)\n",
    "\n",
    "    def _destroy_resource(self):\n",
    "        # 释放Device。\n",
    "        ret = acl.rt.reset_device(self.device_id)\n",
    "        # pyACL去初始化。\n",
    "        ret = acl.finalize()"
   ]
  },
  {
   "cell_type": "code",
   "execution_count": 6,
   "id": "4cb22915-6b5a-4f37-8138-1db15c10d471",
   "metadata": {},
   "outputs": [
    {
     "name": "stdout",
     "output_type": "stream",
     "text": [
      "Start init resource\n"
     ]
    }
   ],
   "source": [
    "import json\n",
    "with open(label_list_json_path, 'r', encoding='utf-8') as json_path:\n",
    "    class_map = json.load(json_path)\n",
    "    \n",
    "# 初始化推理引擎\n",
    "engine = ACLEngine(f'{deploy_model_filename}.om', class_map, device_id=device_id)"
   ]
  },
  {
   "cell_type": "code",
   "execution_count": 7,
   "id": "17412807-8144-4a81-a572-00df4f3b610e",
   "metadata": {},
   "outputs": [
    {
     "name": "stdout",
     "output_type": "stream",
     "text": [
      "\n",
      "======== inference results: =============\n",
      "top 0: class:[其他垃圾/污损塑料]: probability:[1.000000]\n",
      "top 1: class:[有害垃圾/过期药物]: probability:[0.000000]\n",
      "top 2: class:[可回收物/纸板箱]: probability:[0.000000]\n",
      "top 3: class:[可回收物/化妆品瓶]: probability:[0.000000]\n",
      "top 4: class:[其他垃圾/一次性快餐盒]: probability:[0.000000]\n",
      "inference cost time: 17.1ms\n",
      "\n"
     ]
    }
   ],
   "source": [
    "# 推理单张图片\n",
    "engine.inference('./img_335.jpg')"
   ]
  },
  {
   "cell_type": "code",
   "execution_count": 8,
   "id": "8aacdb15-1488-42b7-a554-a27de82d7d6a",
   "metadata": {},
   "outputs": [
    {
     "name": "stdout",
     "output_type": "stream",
     "text": [
      "Resource destroyed successfully\n"
     ]
    }
   ],
   "source": [
    "# 释放资源\n",
    "engine.release_resource()"
   ]
  }
 ],
 "metadata": {
  "kernelspec": {
   "display_name": "Python 3 (ipykernel)",
   "language": "python",
   "name": "python3"
  },
  "language_info": {
   "codemirror_mode": {
    "name": "ipython",
    "version": 3
   },
   "file_extension": ".py",
   "mimetype": "text/x-python",
   "name": "python",
   "nbconvert_exporter": "python",
   "pygments_lexer": "ipython3",
   "version": "3.10.9"
  }
 },
 "nbformat": 4,
 "nbformat_minor": 5
}
